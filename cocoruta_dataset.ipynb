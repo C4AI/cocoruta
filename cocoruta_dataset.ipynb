{
 "cells": [
  {
   "cell_type": "code",
   "execution_count": 1,
   "metadata": {},
   "outputs": [
    {
     "name": "stdout",
     "output_type": "stream",
     "text": [
      "Requirement already satisfied: python-dotenv in c:\\users\\felipe\\documents\\usp\\c4ai\\projects\\cocoruta\\venv\\lib\\site-packages (1.0.1)\n"
     ]
    }
   ],
   "source": [
    "%pip install datasets python-dotenv"
   ]
  },
  {
   "cell_type": "markdown",
   "metadata": {},
   "source": [
    "# Libraries"
   ]
  },
  {
   "cell_type": "code",
   "execution_count": 4,
   "metadata": {},
   "outputs": [],
   "source": [
    "from datasets import load_dataset, Dataset, DatasetDict\n",
    "from dotenv import load_dotenv\n",
    "from pathlib import Path\n",
    "import pandas as pd\n",
    "import os"
   ]
  },
  {
   "cell_type": "markdown",
   "metadata": {},
   "source": [
    "# Configs and constants"
   ]
  },
  {
   "cell_type": "code",
   "execution_count": 6,
   "metadata": {},
   "outputs": [],
   "source": [
    "load_dotenv()\n",
    "\n",
    "HUGGINGFACE_TOKEN = os.getenv(\"HUGGINGFACE_TOKEN\")\n",
    "DATASET_NAME = \"felipeoes/cocoruta-evaluation\"\n",
    "MODEL_COL = \"felipeoes/boto-7b\""
   ]
  },
  {
   "cell_type": "markdown",
   "metadata": {},
   "source": [
    "# Load data and preprocess data"
   ]
  },
  {
   "cell_type": "code",
   "execution_count": 5,
   "metadata": {},
   "outputs": [
    {
     "name": "stderr",
     "output_type": "stream",
     "text": [
      "Map: 100%|██████████| 15964/15964 [00:01<00:00, 12254.97 examples/s]\n",
      "Map: 100%|██████████| 15964/15964 [00:01<00:00, 14838.21 examples/s]\n",
      "Map: 100%|██████████| 15964/15964 [00:01<00:00, 12724.85 examples/s]\n",
      "Map: 100%|██████████| 15964/15964 [00:01<00:00, 13468.94 examples/s]\n"
     ]
    },
    {
     "data": {
      "text/plain": [
       "DatasetDict({\n",
       "    1024_tokens: Dataset({\n",
       "        features: ['file_name', 'context', 'question', 'answer', 'felipeoes/boto-7b', 'generated_text'],\n",
       "        num_rows: 15964\n",
       "    })\n",
       "    128_tokens: Dataset({\n",
       "        features: ['file_name', 'context', 'question', 'answer', 'felipeoes/boto-7b', 'generated_text'],\n",
       "        num_rows: 15964\n",
       "    })\n",
       "    256_tokens: Dataset({\n",
       "        features: ['file_name', 'context', 'question', 'answer', 'felipeoes/boto-7b', 'generated_text'],\n",
       "        num_rows: 15964\n",
       "    })\n",
       "    512_tokens: Dataset({\n",
       "        features: ['file_name', 'context', 'question', 'answer', 'felipeoes/boto-7b', 'generated_text'],\n",
       "        num_rows: 15964\n",
       "    })\n",
       "})"
      ]
     },
     "execution_count": 5,
     "metadata": {},
     "output_type": "execute_result"
    }
   ],
   "source": [
    "def read_csv_files(folder_path: Path) -> list[Dataset]:\n",
    "    \"\"\" Read all csv files in a folder and return a list of datasets\n",
    "    \"\"\"\n",
    "    \n",
    "    datasets = []\n",
    "    for file in folder_path.glob(\"*.csv\"):\n",
    "        dataset = pd.read_csv(file)\n",
    "        dataset = Dataset.from_pandas(dataset)\n",
    "        \n",
    "        # add token number to metadata\n",
    "        dataset.metadata = {\"file_name\": file.stem.split(\"_\")[1]}\n",
    "        datasets.append(dataset)\n",
    "        \n",
    "    return datasets\n",
    "\n",
    "def concat_datasets(datasets: list[Dataset]) -> DatasetDict:\n",
    "    \"\"\" Concatenate a list of datasets into a single dataset with multiple splits. Each split will be named according to token number for model output. \n",
    "    \n",
    "    Example: \n",
    "    boto-7b_128_tokens_train.csv will be the split \"128_tokens\"\n",
    "    \"\"\"\n",
    "\n",
    "    dataset_dict = {}\n",
    "    for dataset in datasets:\n",
    "        split_name = f\"{dataset.metadata['file_name']}_tokens\"\n",
    "        dataset_dict[split_name] = dataset\n",
    "        \n",
    "    return DatasetDict(dataset_dict)\n",
    "\n",
    "def preprocess_text(text: str):\n",
    "    \"\"\" Preprocess text to remove repetition from text and split in END_TOKEN \"\"\"\n",
    "    START_RESPONSE = \"### Resposta:\"\n",
    "    END_TOKEN = \"### Fim\"\n",
    "\n",
    "    \"\"\" Get text in between START_RESPONSE and END_TOKEN \"\"\"\n",
    "    splits = text.split(START_RESPONSE)\n",
    "    if len(splits) > 1:\n",
    "        text = splits[1].split(END_TOKEN)[0].strip()\n",
    "    else:\n",
    "        text = text.split(END_TOKEN)[0].strip()\n",
    "    \n",
    "    return text \n",
    "\n",
    "data = read_csv_files(Path(\"data\"))\n",
    "data  = concat_datasets(data)\n",
    "\n",
    "data = data.map(lambda x: {\"generated_text\": preprocess_text(x[MODEL_COL])})\n",
    "data\n"
   ]
  },
  {
   "cell_type": "code",
   "execution_count": 6,
   "metadata": {},
   "outputs": [
    {
     "data": {
      "text/plain": [
       "{'file_name': 'Decisao_CONAMA_No_005-2006.txt',\n",
       " 'context': 'MINISTÉRIO DO MEIO AMBIENTE \\nCONSELHO NACIONAL DO MEIO AMBIENTE \\nDECISÃO No 005, DE 27 DE DEZEMBRO DE 2006 \\nO CONSELHO NACIONAL DO MEIO AMBIENTE-CONAMA, no uso das \\ncompetências que lhe são conferidas pela Lei no 6.938, de 31 de agosto de 1981, regulamentada pelo \\nDecreto no 99.274, de 6 de junho de 1990, e tendo em vista o disposto em seu Regimento Interno, anexo à \\nPortaria no 168, de 10 de junho de 2005, e o que consta do Processo no 02000.004695/2006-28, e \\nConsiderando o disposto no inciso III do art. 8o da Lei no 6.938, de 1981, que prevê a \\ncompetência do Conselho Nacional do Meio Ambiente-CONAMA para decidir, como última instância \\nadministrativa em grau de recurso, mediante depósito prévio, sobre os recursos administrativos \\ninterpostos aos processos de multas aplicadas pelo Instituto Brasileiro de Meio Ambiente e Recursos \\nNaturais Renováveis-IBAMA, decide: \\nArt. 1o Homologar de acordo com a decisão da 84a Reunião Ordinária do Conselho \\nNacional do Meio Ambiente-CONAMA, os pareceres referentes aos seguintes recursos administrativos \\ninterpostos aos processos de multas aplicadas pelo Instituto Brasileiro do Meio Ambiente e dos Recursos \\nNaturais Renováveis-IBAMA, encaminhados pelo Comitê de Políticas Ambientais-CIPAM e analisados \\npreviamente pela Câmara Técnica de Assuntos Jurídicos-CTAJ, conforme dispõe a Resolução CONAMA \\nno 338, de 25 de setembro de 2003: \\nI - Processo no 02008.001722/02-15: \\nAuto de Infração no 008105-D; \\nInteressado: TRANSMISSORA SUDESTE-NORDESTE; \\nParecer: pelo improvimento do recurso; \\nII - Processo no 02008.001724/02-04: \\nAuto de Infração no 008103-D; \\nInteressado: TRANSMISSORA SUDESTE-NORDESTE; \\nParecer: pela manutenção do auto e remessa à Comissão de Adequação de Multas do \\nIBAMA para redução do valor da multa; \\nIII - Processo no 02027.006839/00-97: \\nAuto de Infração no 261614-D; \\nInteressado: EIDAI DO BRASIL MADEIRAS S/A; \\nParecer: pela manutenção do auto e remessa à Comissão de Adequação de Multas do \\nIBAMA para redução do valor da multa; \\nIV - Processo no 02022.001945/2004-58: \\nAuto de Infração no 351833-D; \\nInteressado: COLUMBIA RIO CARNES LTDA; \\nParecer: pela manutenção do auto e remessa à Comissão de Adequação de Multas do \\nIBAMA para redução do valor da multa; \\nV - Processo no 02022.003793/02-68: \\nAuto de Infração no 351303-D; \\nInteressado: NOBLE DO BRASIL S/C LTDA; \\nParecer: pelo improvimento do recurso; \\n \\n \\n \\n \\n \\n \\n \\n1 \\n \\n \\n \\n \\n \\n \\n \\n \\n2 \\n \\nVI - Processo no 02055.000015/2003-19: \\nAuto de Infração no 236401-D; \\nInteressado: VALDIR APARECIDO BENTO; \\nParecer: pelo não conhecimento do recurso em razão do valor de alçada; \\nVII - Processo no 02008.004586/02-98: \\nAuto de Infração no 240535-D; \\nInteressado: WARLI HAROLDO LUIZ CASTRO; \\nParecer: pelo improvimento do recurso; \\nVIII - Processo no 02018.004876/00-70: \\nAuto de Infração no 336326-D; \\nInteressado: LOURIVAL EVANGELISTA CERQUEIRA; \\nParecer: pelo improvimento do recurso; \\nIX - Processo no 02001.008936/2002-74: \\nAuto de Infração no 085045-D; \\nInteressado: PETROBRÁS PETRÓLEO BRASILEIRO S/A; \\nParecer: pelo improvimento do recurso; \\nX - Processo no 02017.000480/02-18: \\nAuto de Infração no 089245-D; \\nInteressado: PETROBRÁS TRANSPORTE S/A - TRANSPETRO; \\nParecer: pelo improvimento do recurso; \\nXI - Processo no 02022.010888/2002-36: \\nAuto de Infração no 352358-D; \\nInteressado: PETROBRÁS S/A; \\nParecer: pelo improvimento do recurso; \\nXII - Processo no 02006.000006/2004-94: \\nAuto de Infração no 366451-D; \\nInteressado: CARA CARAMBA PRODUTOS LTDA; \\nParecer: pelo improvimento do recurso; \\nXIII - Processo no 02013.6413/2001-20: \\nAuto de Infração no 238169-D; \\nInteressado: QUEIROZ AGROINDUSTRIAL LTDA; \\nParecer: pelo improvimento do recurso; \\nXIV - Processo no 02018.002126/2000-56: \\nAuto de Infração no 152471-D; \\nInteressado: SAMAD - SAPURI MADEIRAS LTDA; \\nParecer: pelo não conhecimento e improvimento do recurso; \\n \\n \\n \\n \\n \\n \\n \\n3 \\n \\nXV - Processo no 02013.002681/2002-16 Vol I e II: \\nAuto de Infração no 219186-D;',\n",
       " 'question': 'Quais foram as empresas que tiveram recursos improvidos pelo CONAMA na Decisão N 005, de 27 de dezembro de 2006?',\n",
       " 'answer': 'As empresas que tiveram recursos improvidos pelo CONAMA na Decisão N 005, de 27 de dezembro de 2006, foram:\\n * TRANSMISSORA SUDESTE-NORDESTE\\n * EIDAI DO BRASIL MADEIRAS S/A\\n * COLUMBIA RIO CARNES LTDA\\n * NOBLE DO BRASIL S/C LTDA\\n * VALDIR APARECIDO BENTO\\n * WARLI HAROLDO LUIZ CASTRO\\n * LOURIVAL EVANGELISTA CERQUEIRA\\n * PETROBRÁS PETRÓLEO BRASILEIRO S/A\\n * PETROBRÁS TRANSPORTE S/A - TRANSPETRO\\n * PETROBRÁS S/A\\n * CARA CARAMBA PRODUTOS LTDA\\n * QUEIROZ AGROINDUSTRIAL LTDA\\n * SAMAD - SAPURI MADEIRAS LTDA',\n",
       " 'felipeoes/boto-7b': 'Responda à pergunta abaixo, forneça uma resposta completa e detalhada.\\n\\n### Pergunta:\\nQuais foram as empresas que tiveram recursos improvidos pelo CONAMA na Decisão N 005, de 27 de dezembro de 2006?\\n\\n### Resposta:\\nAs empresas que tiveram recursos improvídos pelo CONAMA na Decisão N ° 005, de 27 децембра de 2006 são:\\n * TRANSMISSORA SUDESTE-NORDESTE\\n * EIDAI DO BRASIL MADEIRAS S/A\\n * COLUMBIA RIO CARNES LTDA\\n * NOBLE DO BRASIL S/C LTDA\\n * VALDIR APARECIDO BENTO\\n * WARLI HARO',\n",
       " 'generated_text': 'As empresas que tiveram recursos improvídos pelo CONAMA na Decisão N ° 005, de 27 децембра de 2006 são:\\n * TRANSMISSORA SUDESTE-NORDESTE\\n * EIDAI DO BRASIL MADEIRAS S/A\\n * COLUMBIA RIO CARNES LTDA\\n * NOBLE DO BRASIL S/C LTDA\\n * VALDIR APARECIDO BENTO\\n * WARLI HARO'}"
      ]
     },
     "execution_count": 6,
     "metadata": {},
     "output_type": "execute_result"
    }
   ],
   "source": [
    "# check split\n",
    "data[\"128_tokens\"][0]"
   ]
  },
  {
   "cell_type": "code",
   "execution_count": 7,
   "metadata": {},
   "outputs": [
    {
     "name": "stderr",
     "output_type": "stream",
     "text": [
      "Creating parquet from Arrow format: 100%|██████████| 16/16 [00:00<00:00, 85.24ba/s]\n",
      "Uploading the dataset shards: 100%|██████████| 1/1 [00:04<00:00,  4.23s/it]\n",
      "Creating parquet from Arrow format: 100%|██████████| 16/16 [00:00<00:00, 88.70ba/s]\n",
      "Uploading the dataset shards: 100%|██████████| 1/1 [00:03<00:00,  3.00s/it]\n",
      "Creating parquet from Arrow format: 100%|██████████| 16/16 [00:00<00:00, 96.48ba/s]\n",
      "Uploading the dataset shards: 100%|██████████| 1/1 [00:03<00:00,  3.70s/it]\n",
      "Creating parquet from Arrow format: 100%|██████████| 16/16 [00:00<00:00, 87.56ba/s]\n",
      "Uploading the dataset shards: 100%|██████████| 1/1 [00:03<00:00,  3.11s/it]\n"
     ]
    },
    {
     "data": {
      "text/plain": [
       "CommitInfo(commit_url='https://huggingface.co/datasets/felipeoes/cocoruta-training/commit/12e93b763b3407443357fc2dad8c6fb6e42403cc', commit_message='Upload dataset', commit_description='', oid='12e93b763b3407443357fc2dad8c6fb6e42403cc', pr_url=None, pr_revision=None, pr_num=None)"
      ]
     },
     "execution_count": 7,
     "metadata": {},
     "output_type": "execute_result"
    }
   ],
   "source": [
    "# remove MODEL_COL and upload dataset to huggingface\n",
    "data = data.remove_columns(MODEL_COL)\n",
    "data.push_to_hub(DATASET_NAME, token=HUGGINGFACE_TOKEN)"
   ]
  },
  {
   "cell_type": "code",
   "execution_count": 8,
   "metadata": {},
   "outputs": [
    {
     "name": "stderr",
     "output_type": "stream",
     "text": [
      "Downloading readme: 100%|██████████| 810/810 [00:00<00:00, 1.04kB/s]\n",
      "Downloading data: 100%|██████████| 17.4M/17.4M [00:07<00:00, 2.27MB/s]\n",
      "Downloading data: 100%|██████████| 16.4M/16.4M [00:07<00:00, 2.27MB/s]\n",
      "Downloading data: 100%|██████████| 17.0M/17.0M [00:06<00:00, 2.44MB/s]\n",
      "Downloading data: 100%|██████████| 17.3M/17.3M [00:09<00:00, 1.79MB/s]\n",
      "Generating 1024_tokens split: 100%|██████████| 15964/15964 [00:00<00:00, 122911.25 examples/s]\n",
      "Generating 128_tokens split: 100%|██████████| 15964/15964 [00:00<00:00, 185623.35 examples/s]\n",
      "Generating 256_tokens split: 100%|██████████| 15964/15964 [00:00<00:00, 172038.86 examples/s]\n",
      "Generating 512_tokens split: 100%|██████████| 15964/15964 [00:00<00:00, 171953.59 examples/s]\n"
     ]
    },
    {
     "data": {
      "text/plain": [
       "{'file_name': 'Decisao_CONAMA_No_005-2006.txt',\n",
       " 'context': 'MINISTÉRIO DO MEIO AMBIENTE \\nCONSELHO NACIONAL DO MEIO AMBIENTE \\nDECISÃO No 005, DE 27 DE DEZEMBRO DE 2006 \\nO CONSELHO NACIONAL DO MEIO AMBIENTE-CONAMA, no uso das \\ncompetências que lhe são conferidas pela Lei no 6.938, de 31 de agosto de 1981, regulamentada pelo \\nDecreto no 99.274, de 6 de junho de 1990, e tendo em vista o disposto em seu Regimento Interno, anexo à \\nPortaria no 168, de 10 de junho de 2005, e o que consta do Processo no 02000.004695/2006-28, e \\nConsiderando o disposto no inciso III do art. 8o da Lei no 6.938, de 1981, que prevê a \\ncompetência do Conselho Nacional do Meio Ambiente-CONAMA para decidir, como última instância \\nadministrativa em grau de recurso, mediante depósito prévio, sobre os recursos administrativos \\ninterpostos aos processos de multas aplicadas pelo Instituto Brasileiro de Meio Ambiente e Recursos \\nNaturais Renováveis-IBAMA, decide: \\nArt. 1o Homologar de acordo com a decisão da 84a Reunião Ordinária do Conselho \\nNacional do Meio Ambiente-CONAMA, os pareceres referentes aos seguintes recursos administrativos \\ninterpostos aos processos de multas aplicadas pelo Instituto Brasileiro do Meio Ambiente e dos Recursos \\nNaturais Renováveis-IBAMA, encaminhados pelo Comitê de Políticas Ambientais-CIPAM e analisados \\npreviamente pela Câmara Técnica de Assuntos Jurídicos-CTAJ, conforme dispõe a Resolução CONAMA \\nno 338, de 25 de setembro de 2003: \\nI - Processo no 02008.001722/02-15: \\nAuto de Infração no 008105-D; \\nInteressado: TRANSMISSORA SUDESTE-NORDESTE; \\nParecer: pelo improvimento do recurso; \\nII - Processo no 02008.001724/02-04: \\nAuto de Infração no 008103-D; \\nInteressado: TRANSMISSORA SUDESTE-NORDESTE; \\nParecer: pela manutenção do auto e remessa à Comissão de Adequação de Multas do \\nIBAMA para redução do valor da multa; \\nIII - Processo no 02027.006839/00-97: \\nAuto de Infração no 261614-D; \\nInteressado: EIDAI DO BRASIL MADEIRAS S/A; \\nParecer: pela manutenção do auto e remessa à Comissão de Adequação de Multas do \\nIBAMA para redução do valor da multa; \\nIV - Processo no 02022.001945/2004-58: \\nAuto de Infração no 351833-D; \\nInteressado: COLUMBIA RIO CARNES LTDA; \\nParecer: pela manutenção do auto e remessa à Comissão de Adequação de Multas do \\nIBAMA para redução do valor da multa; \\nV - Processo no 02022.003793/02-68: \\nAuto de Infração no 351303-D; \\nInteressado: NOBLE DO BRASIL S/C LTDA; \\nParecer: pelo improvimento do recurso; \\n \\n \\n \\n \\n \\n \\n \\n1 \\n \\n \\n \\n \\n \\n \\n \\n \\n2 \\n \\nVI - Processo no 02055.000015/2003-19: \\nAuto de Infração no 236401-D; \\nInteressado: VALDIR APARECIDO BENTO; \\nParecer: pelo não conhecimento do recurso em razão do valor de alçada; \\nVII - Processo no 02008.004586/02-98: \\nAuto de Infração no 240535-D; \\nInteressado: WARLI HAROLDO LUIZ CASTRO; \\nParecer: pelo improvimento do recurso; \\nVIII - Processo no 02018.004876/00-70: \\nAuto de Infração no 336326-D; \\nInteressado: LOURIVAL EVANGELISTA CERQUEIRA; \\nParecer: pelo improvimento do recurso; \\nIX - Processo no 02001.008936/2002-74: \\nAuto de Infração no 085045-D; \\nInteressado: PETROBRÁS PETRÓLEO BRASILEIRO S/A; \\nParecer: pelo improvimento do recurso; \\nX - Processo no 02017.000480/02-18: \\nAuto de Infração no 089245-D; \\nInteressado: PETROBRÁS TRANSPORTE S/A - TRANSPETRO; \\nParecer: pelo improvimento do recurso; \\nXI - Processo no 02022.010888/2002-36: \\nAuto de Infração no 352358-D; \\nInteressado: PETROBRÁS S/A; \\nParecer: pelo improvimento do recurso; \\nXII - Processo no 02006.000006/2004-94: \\nAuto de Infração no 366451-D; \\nInteressado: CARA CARAMBA PRODUTOS LTDA; \\nParecer: pelo improvimento do recurso; \\nXIII - Processo no 02013.6413/2001-20: \\nAuto de Infração no 238169-D; \\nInteressado: QUEIROZ AGROINDUSTRIAL LTDA; \\nParecer: pelo improvimento do recurso; \\nXIV - Processo no 02018.002126/2000-56: \\nAuto de Infração no 152471-D; \\nInteressado: SAMAD - SAPURI MADEIRAS LTDA; \\nParecer: pelo não conhecimento e improvimento do recurso; \\n \\n \\n \\n \\n \\n \\n \\n3 \\n \\nXV - Processo no 02013.002681/2002-16 Vol I e II: \\nAuto de Infração no 219186-D;',\n",
       " 'question': 'Quais foram as empresas que tiveram recursos improvidos pelo CONAMA na Decisão N 005, de 27 de dezembro de 2006?',\n",
       " 'answer': 'As empresas que tiveram recursos improvidos pelo CONAMA na Decisão N 005, de 27 de dezembro de 2006, foram:\\n * TRANSMISSORA SUDESTE-NORDESTE\\n * EIDAI DO BRASIL MADEIRAS S/A\\n * COLUMBIA RIO CARNES LTDA\\n * NOBLE DO BRASIL S/C LTDA\\n * VALDIR APARECIDO BENTO\\n * WARLI HAROLDO LUIZ CASTRO\\n * LOURIVAL EVANGELISTA CERQUEIRA\\n * PETROBRÁS PETRÓLEO BRASILEIRO S/A\\n * PETROBRÁS TRANSPORTE S/A - TRANSPETRO\\n * PETROBRÁS S/A\\n * CARA CARAMBA PRODUTOS LTDA\\n * QUEIROZ AGROINDUSTRIAL LTDA\\n * SAMAD - SAPURI MADEIRAS LTDA',\n",
       " 'generated_text': 'As empresas que tiveram recursos improvídos pelo CONAMA na Decisão N ° 005, de 27 децембра de 2006 são:\\n * TRANSMISSORA SUDESTE-NORDESTE\\n * EIDAI DO BRASIL MADEIRAS S/A\\n * COLUMBIA RIO CARNES LTDA\\n * NOBLE DO BRASIL S/C LTDA\\n * VALDIR APARECIDO BENTO\\n * WARLI HARO'}"
      ]
     },
     "execution_count": 8,
     "metadata": {},
     "output_type": "execute_result"
    },
    {
     "ename": "",
     "evalue": "",
     "output_type": "error",
     "traceback": [
      "\u001b[1;31mThe Kernel crashed while executing code in the current cell or a previous cell. \n",
      "\u001b[1;31mPlease review the code in the cell(s) to identify a possible cause of the failure. \n",
      "\u001b[1;31mClick <a href='https://aka.ms/vscodeJupyterKernelCrash'>here</a> for more info. \n",
      "\u001b[1;31mView Jupyter <a href='command:jupyter.viewOutput'>log</a> for further details."
     ]
    }
   ],
   "source": [
    "# check dataset\n",
    "new_data = load_dataset(DATASET_NAME)\n",
    "new_data[\"128_tokens\"][0]"
   ]
  },
  {
   "cell_type": "code",
   "execution_count": 7,
   "metadata": {},
   "outputs": [
    {
     "name": "stderr",
     "output_type": "stream",
     "text": [
      "Generating 1024_tokens split: 100%|██████████| 15964/15964 [00:00<00:00, 110246.66 examples/s]\n",
      "Generating 128_tokens split: 100%|██████████| 15964/15964 [00:00<00:00, 126582.56 examples/s]\n",
      "Generating 256_tokens split: 100%|██████████| 15964/15964 [00:00<00:00, 126004.42 examples/s]\n",
      "Generating 512_tokens split: 100%|██████████| 15964/15964 [00:00<00:00, 128092.89 examples/s]\n"
     ]
    },
    {
     "data": {
      "text/plain": [
       "DatasetDict({\n",
       "    1024_tokens: Dataset({\n",
       "        features: ['file_name', 'context', 'question', 'answer', 'generated_text'],\n",
       "        num_rows: 15964\n",
       "    })\n",
       "    128_tokens: Dataset({\n",
       "        features: ['file_name', 'context', 'question', 'answer', 'generated_text'],\n",
       "        num_rows: 15964\n",
       "    })\n",
       "    256_tokens: Dataset({\n",
       "        features: ['file_name', 'context', 'question', 'answer', 'generated_text'],\n",
       "        num_rows: 15964\n",
       "    })\n",
       "    512_tokens: Dataset({\n",
       "        features: ['file_name', 'context', 'question', 'answer', 'generated_text'],\n",
       "        num_rows: 15964\n",
       "    })\n",
       "})"
      ]
     },
     "execution_count": 7,
     "metadata": {},
     "output_type": "execute_result"
    }
   ],
   "source": [
    "# temp download csv of datasets\n",
    "dataset = load_dataset(DATASET_NAME)\n",
    "dataset"
   ]
  },
  {
   "cell_type": "code",
   "execution_count": 8,
   "metadata": {},
   "outputs": [
    {
     "name": "stderr",
     "output_type": "stream",
     "text": [
      "Creating CSV from Arrow format: 100%|██████████| 16/16 [00:00<00:00, 17.91ba/s]\n"
     ]
    },
    {
     "name": "stdout",
     "output_type": "stream",
     "text": [
      "Saved 1024_tokens.csv\n"
     ]
    },
    {
     "name": "stderr",
     "output_type": "stream",
     "text": [
      "Creating CSV from Arrow format: 100%|██████████| 16/16 [00:00<00:00, 18.33ba/s]\n"
     ]
    },
    {
     "name": "stdout",
     "output_type": "stream",
     "text": [
      "Saved 128_tokens.csv\n"
     ]
    },
    {
     "name": "stderr",
     "output_type": "stream",
     "text": [
      "Creating CSV from Arrow format: 100%|██████████| 16/16 [00:00<00:00, 19.06ba/s]\n"
     ]
    },
    {
     "name": "stdout",
     "output_type": "stream",
     "text": [
      "Saved 256_tokens.csv\n"
     ]
    },
    {
     "name": "stderr",
     "output_type": "stream",
     "text": [
      "Creating CSV from Arrow format: 100%|██████████| 16/16 [00:00<00:00, 17.42ba/s]"
     ]
    },
    {
     "name": "stdout",
     "output_type": "stream",
     "text": [
      "Saved 512_tokens.csv\n"
     ]
    },
    {
     "name": "stderr",
     "output_type": "stream",
     "text": [
      "\n"
     ]
    }
   ],
   "source": [
    "# convert each split to a csv file\n",
    "for split in dataset.keys():\n",
    "    dataset[split].to_csv(f\"{split}.csv\", index=False)\n",
    "    print(f\"Saved {split}.csv\")"
   ]
  }
 ],
 "metadata": {
  "kernelspec": {
   "display_name": "venv",
   "language": "python",
   "name": "python3"
  },
  "language_info": {
   "codemirror_mode": {
    "name": "ipython",
    "version": 3
   },
   "file_extension": ".py",
   "mimetype": "text/x-python",
   "name": "python",
   "nbconvert_exporter": "python",
   "pygments_lexer": "ipython3",
   "version": "3.11.10"
  }
 },
 "nbformat": 4,
 "nbformat_minor": 2
}
