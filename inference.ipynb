{
 "cells": [
  {
   "cell_type": "markdown",
   "metadata": {},
   "source": [
    "# Install necessary packages"
   ]
  },
  {
   "cell_type": "code",
   "execution_count": null,
   "metadata": {},
   "outputs": [],
   "source": [
    "%pip install transformers accelerate"
   ]
  },
  {
   "cell_type": "code",
   "execution_count": null,
   "metadata": {},
   "outputs": [],
   "source": [
    "%pip install torch torchvision torchaudio --index-url https://download.pytorch.org/whl/cu121"
   ]
  },
  {
   "cell_type": "markdown",
   "metadata": {},
   "source": [
    "# Load model"
   ]
  },
  {
   "cell_type": "code",
   "execution_count": null,
   "metadata": {},
   "outputs": [],
   "source": [
    "# load model from huggingface\n",
    "import torch\n",
    "from transformers import AutoTokenizer, AutoModelForCausalLM, TextStreamer, StoppingCriteria\n",
    "\n",
    "# using the second GPU only\n",
    "tokenizer = AutoTokenizer.from_pretrained(\"felipeoes/cocoruta-7b\", device_map=\"cuda:1\")\n",
    "model = AutoModelForCausalLM.from_pretrained(\"felipeoes/cocoruta-7b\", device_map=\"cuda:1\", torch_dtype=torch.float16)\n",
    "\n",
    "model"
   ]
  },
  {
   "cell_type": "code",
   "execution_count": 9,
   "metadata": {},
   "outputs": [
    {
     "name": "stderr",
     "output_type": "stream",
     "text": [
      "The attention mask is not set and cannot be inferred from input because pad token is same as eos token. As a consequence, you may observe unexpected behavior. Please pass your input's `attention_mask` to obtain reliable results.\n"
     ]
    },
    {
     "name": "stdout",
     "output_type": "stream",
     "text": [
      "\n",
      "A Amazônia Azul é a região marítima brasileira que compreende a Zona Econômica Exclusiva (ZEE) e a Plataforma Continental. A ZEE é a área do mar adjacente ao território do Brasil, com largura de até 200 milhas marítimas, e a Plataforma Continental é a extensão do território brasileiro sob o mar, até o limite de 200 metros de profundidade ou até o limite de 350 milhas marítimas, se a profundidade for menor que 200 metros.\n",
      "\n",
      "###\n"
     ]
    }
   ],
   "source": [
    "# Define an early stopping ccriteria\n",
    "class StopOnString(StoppingCriteria):\n",
    "    def __init__(self, target_sequence, prompt):\n",
    "        self.target_sequence = target_sequence\n",
    "        self.prompt=prompt\n",
    "\n",
    "    def __call__(self, input_ids, scores, **kwargs):\n",
    "        # Get the generated text as a string\n",
    "        generated_text = tokenizer.decode(input_ids[0])\n",
    "        generated_text = generated_text.replace(self.prompt,'')\n",
    "        # Check if the target sequence appears in the generated text\n",
    "        if self.target_sequence in generated_text:\n",
    "            return True  # Stop generation\n",
    "\n",
    "        return False  # Continue generation\n",
    "\n",
    "# INFERENCE\n",
    "stop_string = \"###\"\n",
    "streamer = TextStreamer(tokenizer, skip_prompt=True)\n",
    "\n",
    "input_text = \"### Pergunta: O que é a Amazônia Azul?\\n### Resposta:\"\n",
    "input_ids = tokenizer(input_text, return_tensors='pt').input_ids.to(model.device)\n",
    "_ = model.generate(input_ids,\n",
    "                            streamer=streamer,\n",
    "                            pad_token_id=tokenizer.eos_token_id, \n",
    "                            max_length=256, \n",
    "                            temperature=0.8,\n",
    "                            top_p=0.9,\n",
    "                            top_k=30,\n",
    "                            stopping_criteria=[StopOnString(stop_string, input_text)],\n",
    "                            do_sample=True,\n",
    "                            num_return_sequences=1,\n",
    ")\n"
   ]
  }
 ],
 "metadata": {
  "kernelspec": {
   "display_name": "venv",
   "language": "python",
   "name": "python3"
  },
  "language_info": {
   "codemirror_mode": {
    "name": "ipython",
    "version": 3
   },
   "file_extension": ".py",
   "mimetype": "text/x-python",
   "name": "python",
   "nbconvert_exporter": "python",
   "pygments_lexer": "ipython3",
   "version": "3.11.10"
  }
 },
 "nbformat": 4,
 "nbformat_minor": 2
}
